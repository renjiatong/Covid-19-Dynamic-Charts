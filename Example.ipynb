{
 "cells": [
  {
   "cell_type": "code",
   "execution_count": null,
   "metadata": {
    "scrolled": false
   },
   "outputs": [],
   "source": [
    "import pandas as pd\n",
    "print('Current pandas version: %s'%(pd.__version__) )\n",
    "\n",
    "import pyecharts\n",
    "print('Current pyecharts version: %s'%(pyecharts.__version__) )\n",
    "\n",
    "import numpy as np\n",
    "\n",
    "# 更新之后控制台会出现 PendingDeprecationWarning 的提示。\n",
    "# 如需关闭，请在核心代码前加入如下代码：\n",
    "try:\n",
    "    from pyecharts.globals import WarningType\n",
    "    WarningType.ShowWarning = False\n",
    "except:\n",
    "    pass\n",
    "\n",
    "from pyecharts import options as opts\n",
    "from pyecharts.charts import Map, Timeline\n",
    "\n",
    "import seaborn as sns\n",
    "print('Current seaborn version: %s'%(sns.__version__) )\n",
    "import matplotlib.pyplot as plt\n",
    "%matplotlib inline\n",
    "\n",
    "import warnings\n",
    "warnings.filterwarnings(\"ignore\")"
   ]
  },
  {
   "cell_type": "code",
   "execution_count": null,
   "metadata": {},
   "outputs": [],
   "source": [
    "from pyecharts.charts import Bar\n",
    "bar = Bar()\n",
    "bar.add_xaxis([\"衬衫\", \"羊毛衫\", \"雪纺衫\", \"裤子\", \"高跟鞋\", \"袜子\"])\n",
    "bar.add_yaxis(\"商家A\", [5, 20, 36, 10, 75, 90])\n",
    "bar.render_notebook()"
   ]
  },
  {
   "cell_type": "code",
   "execution_count": null,
   "metadata": {},
   "outputs": [],
   "source": [
    "from pyecharts import options as opts\n",
    "from pyecharts.charts import Map\n",
    "from pyecharts.faker import Faker\n",
    "\n",
    "c = (\n",
    "    Map()\n",
    "    .add(\"商家A\", [list(z) for z in zip(Faker.provinces, Faker.values())], \"china\")\n",
    "    .set_global_opts(title_opts=opts.TitleOpts(title=\"Map-基本示例\"))\n",
    ")\n",
    "c.render_notebook()"
   ]
  },
  {
   "cell_type": "code",
   "execution_count": null,
   "metadata": {},
   "outputs": [],
   "source": [
    "c = (\n",
    "    Map()\n",
    "    .add(\"商家A\", [list(z) for z in zip(Faker.country, Faker.values())], \"world\")\n",
    "    .set_series_opts(label_opts=opts.LabelOpts(is_show=False))\n",
    "    .set_global_opts(\n",
    "        title_opts=opts.TitleOpts(title=\"Map-世界地图\"),\n",
    "        visualmap_opts=opts.VisualMapOpts(max_=200),\n",
    "    )\n",
    ")\n",
    "c.render_notebook()"
   ]
  },
  {
   "cell_type": "code",
   "execution_count": null,
   "metadata": {
    "scrolled": false
   },
   "outputs": [],
   "source": [
    "from pyecharts.charts import Timeline\n",
    "\n",
    "tl = Timeline()\n",
    "for i in range(2015, 2020):\n",
    "    map0 = (\n",
    "        Map()\n",
    "        .add(\"商家A\", [list(z) for z in zip(Faker.provinces, Faker.values())], \"china\")\n",
    "        .set_global_opts(\n",
    "            title_opts=opts.TitleOpts(title=\"Map-{}年某些数据\".format(i)),\n",
    "            visualmap_opts=opts.VisualMapOpts(max_=200),\n",
    "        )\n",
    "    )\n",
    "    tl.add(map0, \"{}年\".format(i))\n",
    "tl.render_notebook()"
   ]
  }
 ],
 "metadata": {
  "kernelspec": {
   "display_name": "py38",
   "language": "python",
   "name": "py38"
  },
  "language_info": {
   "codemirror_mode": {
    "name": "ipython",
    "version": 3
   },
   "file_extension": ".py",
   "mimetype": "text/x-python",
   "name": "python",
   "nbconvert_exporter": "python",
   "pygments_lexer": "ipython3",
   "version": "3.8.5"
  }
 },
 "nbformat": 4,
 "nbformat_minor": 2
}
