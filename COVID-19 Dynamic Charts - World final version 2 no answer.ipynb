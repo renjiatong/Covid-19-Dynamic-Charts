{
 "cells": [
  {
   "cell_type": "markdown",
   "metadata": {},
   "source": [
    "<h1><center>COVID-19 Dynamic Charts - World</center></h1>"
   ]
  },
  {
   "cell_type": "markdown",
   "metadata": {},
   "source": [
    "## Table of Contents<a name='0'></a>\n",
    "1. [Import Modules in Python](#1)\n",
    "2. [Load Data to Python](#2)\n",
    "3. [Data Processing](#3)\n",
    "4. [Create COVID-19 Dynamic Charts](#4)\n",
    "5. [Flatten the Curve](#5)"
   ]
  },
  {
   "cell_type": "markdown",
   "metadata": {},
   "source": [
    "### 1. Import Modules in Python<a name='1'></a>\n",
    "[Return to content](#0)"
   ]
  },
  {
   "cell_type": "code",
   "execution_count": null,
   "metadata": {},
   "outputs": [],
   "source": [
    "import pandas as pd\n",
    "print('Current pandas version: %s'%(pd.__version__) )\n",
    "\n",
    "import pyecharts\n",
    "print('Current pyecharts version: %s'%(pyecharts.__version__) )\n",
    "\n",
    "import numpy as np\n",
    "\n",
    "# 更新之后控制台会出现 PendingDeprecationWarning 的提示。\n",
    "# 如需关闭，请在核心代码前加入如下代码：\n",
    "try:\n",
    "    from pyecharts.globals import WarningType\n",
    "    WarningType.ShowWarning = False\n",
    "except:\n",
    "    pass\n",
    "\n",
    "from pyecharts import options as opts\n",
    "from pyecharts.charts import Map, Timeline\n",
    "\n",
    "import seaborn as sns\n",
    "print('Current seaborn version: %s'%(sns.__version__) )\n",
    "import matplotlib.pyplot as plt\n",
    "%matplotlib inline\n",
    "\n",
    "import warnings\n",
    "warnings.filterwarnings(\"ignore\")"
   ]
  },
  {
   "cell_type": "code",
   "execution_count": null,
   "metadata": {},
   "outputs": [],
   "source": [
    "pd.set_option('display.max_rows', 10)\n",
    "pd.set_option('display.max_columns', 15)\n",
    "pd.set_option('display.max_colwidth', 1000)"
   ]
  },
  {
   "cell_type": "markdown",
   "metadata": {},
   "source": [
    " "
   ]
  },
  {
   "cell_type": "markdown",
   "metadata": {},
   "source": [
    " "
   ]
  },
  {
   "cell_type": "markdown",
   "metadata": {},
   "source": [
    "### 2. Load Data to Python<a name='2'></a>\n",
    "[Return to content](#0)"
   ]
  },
  {
   "cell_type": "code",
   "execution_count": null,
   "metadata": {},
   "outputs": [],
   "source": []
  },
  {
   "cell_type": "markdown",
   "metadata": {},
   "source": [
    " "
   ]
  },
  {
   "cell_type": "markdown",
   "metadata": {},
   "source": [
    " "
   ]
  },
  {
   "cell_type": "markdown",
   "metadata": {},
   "source": [
    "### 3. Data Processing<a name='3'></a>\n",
    "[Return to content](#0)"
   ]
  },
  {
   "cell_type": "code",
   "execution_count": null,
   "metadata": {},
   "outputs": [],
   "source": []
  },
  {
   "cell_type": "markdown",
   "metadata": {},
   "source": [
    " "
   ]
  },
  {
   "cell_type": "markdown",
   "metadata": {},
   "source": [
    " "
   ]
  },
  {
   "cell_type": "markdown",
   "metadata": {},
   "source": [
    "### 4. Create COVID-19 Dynamic Charts<a name='4'></a>\n",
    "[Return to content](#0)"
   ]
  },
  {
   "cell_type": "code",
   "execution_count": null,
   "metadata": {},
   "outputs": [],
   "source": []
  },
  {
   "cell_type": "code",
   "execution_count": null,
   "metadata": {},
   "outputs": [],
   "source": [
    "# Change some country names so that it can show up in the map properly\n",
    "# dfc.loc[dfc.Country=='US','Country'] = 'United States'\n",
    "# dfc.loc[dfc.Country=='Korea, South','Country'] = 'Korea'\n",
    "# dfc.loc[dfc.Country=='Czechia','Country'] = 'Czech Rep'\n",
    "# dfc.loc[dfc.Country.isin(['Congo (Brazzaville)','Congo (Kinshasa)']),'Country'] = 'Dem. Rep. Congo'\n",
    "# dfc.loc[dfc.Country.isin(['South Sudan']),'Country'] = 'S. Sudan'"
   ]
  },
  {
   "cell_type": "code",
   "execution_count": null,
   "metadata": {},
   "outputs": [],
   "source": [
    "# pieces = [\n",
    "#               {\"max\": 10000},                \n",
    "#               {\"min\": 10000,   \"max\": 99999},\n",
    "#               {\"min\": 100000,  \"max\": 499999},\n",
    "#               {\"min\": 500000,  \"max\": 999999},\n",
    "#               {\"min\": 1000000, \"max\": 4999999},\n",
    "#               {\"min\": 5000000, \"max\": 9999999},\n",
    "#               {\"min\": 10000000},\n",
    "# ]"
   ]
  },
  {
   "cell_type": "markdown",
   "metadata": {},
   "source": [
    " "
   ]
  },
  {
   "cell_type": "markdown",
   "metadata": {},
   "source": [
    " "
   ]
  },
  {
   "cell_type": "markdown",
   "metadata": {},
   "source": [
    "### 5. Flatten the Curve<a name='5'></a>\n",
    "[Return to content](#0)"
   ]
  },
  {
   "cell_type": "code",
   "execution_count": null,
   "metadata": {},
   "outputs": [],
   "source": []
  }
 ],
 "metadata": {
  "kernelspec": {
   "display_name": "py38",
   "language": "python",
   "name": "py38"
  },
  "language_info": {
   "codemirror_mode": {
    "name": "ipython",
    "version": 3
   },
   "file_extension": ".py",
   "mimetype": "text/x-python",
   "name": "python",
   "nbconvert_exporter": "python",
   "pygments_lexer": "ipython3",
   "version": "3.8.5"
  }
 },
 "nbformat": 4,
 "nbformat_minor": 2
}
